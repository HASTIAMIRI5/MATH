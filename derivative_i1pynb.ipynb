{
  "nbformat": 4,
  "nbformat_minor": 0,
  "metadata": {
    "colab": {
      "provenance": []
    },
    "kernelspec": {
      "name": "python3",
      "display_name": "Python 3"
    },
    "language_info": {
      "name": "python"
    }
  },
  "cells": [
    {
      "cell_type": "markdown",
      "source": [
        "Derivative-Gradient-Chain Rule"
      ],
      "metadata": {
        "id": "YbWrjHu59DI7"
      }
    },
    {
      "cell_type": "code",
      "source": [
        "def get_derivative(func, x):\n",
        "\n",
        "  h = 0.0001\n",
        "  return (func(x+h) - func(x)) / h\n",
        "\n",
        "def f(x):\n",
        "  return x**2\n",
        "\n",
        "x = 3\n",
        "computed = get_derivative(f , x)\n",
        "actual = 2*x\n",
        "print(computed ,actual )"
      ],
      "metadata": {
        "colab": {
          "base_uri": "https://localhost:8080/"
        },
        "id": "am40glJD9T1A",
        "outputId": "b6b81400-bc6f-46a9-e926-9d4e82b50eed"
      },
      "execution_count": null,
      "outputs": [
        {
          "output_type": "stream",
          "name": "stdout",
          "text": [
            "6.000100000012054 6\n"
          ]
        }
      ]
    }
  ]
}